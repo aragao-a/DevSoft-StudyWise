{
 "cells": [
  {
   "cell_type": "code",
   "execution_count": 39,
   "metadata": {},
   "outputs": [
    {
     "name": "stdout",
     "output_type": "stream",
     "text": [
      "200\n",
      "{'quizzes': [{'id': 3, 'user_id': 1, 'quiz_data': [{'id': 1, 'question': 'O que é filogenia?', 'options': ['Mudanças em população.', 'Estudo de fósseis.', 'Desenvolvimento evolutivo.', 'Lei do uso e desuso.'], 'correct_answer': 2, 'validation': 'A definição de filogenia está explicitamente descrita no texto.'}, {'id': 2, 'question': 'O que o Neodarwinismo inclui?', 'options': ['Variabilidade e seleção.', 'Mutações e seleção natural.', 'Uso e desuso, herança.', 'Órgãos homólogos e análogos.'], 'correct_answer': 1, 'validation': 'O diagrama mostra explicitamente os componentes do Neodarwinismo.'}, {'id': 3, 'question': 'O que são fósseis?', 'options': ['Órgãos sem função.', 'Vestígios de seres extintos.', 'Evolução sem complexidade.', 'Componentes do Lamarckismo.'], 'correct_answer': 1, 'validation': 'A definição de fósseis é claramente apresentada no texto.'}, {'id': 4, 'question': 'O que o Darwinismo considera?', 'options': ['Mutações e recombinação.', 'Herança dos caracteres adquiridos.', 'Variabilidade e seleção natural.', 'Órgãos vestigiais e homólogos.'], 'correct_answer': 2, 'validation': 'A imagem mostra os componentes do Darwinismo.'}, {'id': 5, 'question': 'Qual a característica de órgãos homólogos?', 'options': ['Mesma função, origem diferente.', 'Mesma origem, função igual ou diferente.', 'Sem função em um grupo de seres vivos.', 'Vestígios de seres atualmente extintos.'], 'correct_answer': 1, 'validation': 'A definição de órgãos homólogos está na imagem.'}, {'id': 6, 'question': 'A evolução implica aumento de complexidade?', 'options': ['Sim, sempre.', 'Não, necessariamente.', 'Apenas no Lamarckismo.', 'Somente em organismos complexos.'], 'correct_answer': 1, 'validation': 'O texto afirma explicitamente que a evolução não significa necessariamente aumento de complexidade.'}], 'created_at': '2025-02-03 02:48:15'}]}\n"
     ]
    }
   ],
   "source": [
    "import requests\n",
    "\n",
    "BASE_URL = \"http://localhost:5000\"  # Substitua pela URL do LocalTunnel se necessário\n",
    "\n",
    "# Teste de cadastro de usuário\n",
    "def test_register():\n",
    "    payload = {\n",
    "        \"username\": \"testuser\",\n",
    "        \"password\": \"testpassword\",\n",
    "        \"email\": \"testuser@example.com\"\n",
    "    }\n",
    "    response = requests.post(f\"{BASE_URL}/register\", json=payload)\n",
    "    print(response.status_code, response.json())\n",
    "\n",
    "# Teste de login de usuário\n",
    "def test_login():\n",
    "    payload = {\n",
    "        \"username\": \"testuser\",\n",
    "        \"password\": \"testpassword\"\n",
    "    }\n",
    "    response = requests.post(f\"{BASE_URL}/login\", json=payload)\n",
    "    print(response.status_code, response.json())\n",
    "\n",
    "\n",
    "# Teste de histórico de quizzes\n",
    "def test_quiz_history():\n",
    "    user_id = 1  # ID do usuário (obtido após o cadastro/login)\n",
    "    response = requests.get(f\"{BASE_URL}/quiz-history/{user_id}\")\n",
    "    print(response.status_code, response.json())\n",
    "\n",
    "# Teste de upload de arquivo\n",
    "def test_upload():\n",
    "    file_path = \"Back-end/assets/mapa-mental-evidencias-da-evolucao-biologica-biologia.jpg\"  # Substitua por um caminho válido\n",
    "    user_id = 1  # ID do usuário\n",
    "    with open(file_path, \"rb\") as f:\n",
    "        files = {\"file\": f}\n",
    "        data = {\"userId\": user_id}\n",
    "        response = requests.post(f\"{BASE_URL}/upload\", files=files, data=data)\n",
    "    \n",
    "    print(response.status_code, response.json())\n",
    "\n",
    "def test_text_quiz(): #QUIZ POR INPUT DE TEXTO\n",
    "    payload = {\n",
    "        \"text\": \"Hora de aventura primeira temporada\",\n",
    "        \"userId\": 1  # ID do usuário\n",
    "    }\n",
    "    response = requests.post(f\"{BASE_URL}/text-quiz\", json=payload)\n",
    "    print(response.status_code, response.json())\n",
    "    \n",
    "def last_quiz(): #QUIZ QUE RETORNA AO FAZER NOVO QUIZ\n",
    "    user_id = 1  # ID do usuário\n",
    "    response = requests.get(f\"{BASE_URL}/questions.json/{user_id}\")\n",
    "    print(response.status_code)\n",
    "    if response.status_code == 200:\n",
    "        print(response.json())\n",
    "\n",
    "# Executando os testes\n",
    "if __name__ == \"__main__\":\n",
    "    #test_register()  # Testa o cadastro de usuário\n",
    "    #test_login()  # Testa o login de usuário\n",
    "    #test_quiz_history()  # Testa o histórico de quizzes\n",
    "    #test_upload()  # Testa o upload de arquivo\n",
    "    #test_questions()  # Testa a busca de questions.json\n",
    "    #test_text_quiz()  # Testa a geração de quiz a partir de texto\n",
    "    last_quiz() #retorna ultimo quiz feito por usuário."
   ]
  },
  {
   "cell_type": "code",
   "execution_count": null,
   "metadata": {},
   "outputs": [],
   "source": []
  }
 ],
 "metadata": {
  "kernelspec": {
   "display_name": "devsof",
   "language": "python",
   "name": "python3"
  },
  "language_info": {
   "codemirror_mode": {
    "name": "ipython",
    "version": 3
   },
   "file_extension": ".py",
   "mimetype": "text/x-python",
   "name": "python",
   "nbconvert_exporter": "python",
   "pygments_lexer": "ipython3",
   "version": "3.11.10"
  }
 },
 "nbformat": 4,
 "nbformat_minor": 2
}
